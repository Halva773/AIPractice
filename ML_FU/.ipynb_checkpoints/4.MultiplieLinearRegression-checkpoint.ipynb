{
 "cells": [
  {
   "cell_type": "markdown",
   "metadata": {
    "id": "DY6KfR5twAZ2"
   },
   "source": [
    "## Семинар 4\n",
    "\n",
    "# Тема: Линейная регрессия с m признаками"
   ]
  },
  {
   "cell_type": "markdown",
   "metadata": {},
   "source": [
    "Линейная регрессия – это модель линейной зависимости между признаками и целевой переменной.\n",
    "\n",
    "$X \\in{\\mathbb R}^{\\displaystyle n \\times m}$, $\\vec y \\in {\\mathbb R}^{1}$\n",
    "\n",
    "$X=\\begin{pmatrix}\n",
    "  x_{1 1} & x_{1 2}& \\dots & x_{1 m}\\\\\n",
    "   \\vdots &  \\vdots & \\dots &  \\vdots\\\\\n",
    "   x_{n 1} & x_{n 2}& \\dots & x_{n m}\n",
    "\\end{pmatrix}$ - матрица признаков, $\\quad \\vec{y}=\\begin{pmatrix}\n",
    "  y_1\\\\\n",
    "   \\vdots \\\\\n",
    "  y_n\n",
    "\\end{pmatrix}$ - вектор-столбец целевой переменной\n",
    "\n",
    "Модель: $\\hat{y} = w_0 + w_1 x_1+ w_2 x_2 + \\dots + w_m x_m$ - предсказанные значения (гиперплоскость)\n",
    "\n",
    "\n",
    "$\\left\\{\n",
    "\\begin{array}{ccc}\n",
    "\\hat{y}_1 = w_0 + w_1 x_{1 1}+ w_2 x_{1 2}+\\dots + w_m x_{1 m}\\\\\n",
    "\\hat{y}_2 = w_0 + w_1 x_{2 1}+ w_2 x_{2 2}+\\dots + w_m x_{2 m}\\\\\n",
    " \\ldots \\\\\n",
    "\\hat{y}_n = w_0 + w_1 x_{n 1}+ w_2 x_{n 2}+\\dots + w_m x_{n m}\\\\\n",
    "\\end{array}\n",
    "\\right.\n",
    "\\qquad \\Rightarrow \\qquad   \\hat{y}_i = w_0 + w_1 x_{i 1}+ w_2 x_{i 2}+\\dots + w_m x_{i m}, \\quad i= 1,\\dots , n $\n",
    "\n",
    "Ошибка MSE (mean squared error):\n",
    "$L =  \\frac{1}{n}\\sum_{i=1}^{n} (\\hat{y}_i - {y}_i)^2$\n",
    "\n",
    "Функция ошибки:\n",
    "$L(w_0, w_1, w_2,\\dots , w_m) =  \\frac{1}{n}\\sum_{i=1}^{n} ( w_0 + w_1 x_{i 1}+ w_2 x_{i 2}+\\dots + w_m x_{i m} - {y}_i)^2 \\quad \\longrightarrow_{w_0, w_1, w_2,\\dots , w_m} \\quad min$\n",
    "\n",
    "Найдём частные производные:\n",
    "\n",
    "$ \\frac{\\partial }{\\partial w_0}L(w_0,w_1, w_2,\\dots, w_m) =\\frac{2}{n}\\sum_{i=1}^{n} ( w_0 + w_1 x_{i 1}+ w_2 x_{i 2}+\\dots + w_m x_{i m} - {y}_i)$\n",
    "\n",
    "$\\frac{\\partial }{\\partial w_1}L(w_0,w_1, w_2,\\dots , w_m) =\\frac{2}{n}\\sum_{i=1}^{n} ( w_0 + w_1 x_{i 1}+ w_2 x_{i 2}+\\dots + w_m x_{i m} - {y}_i){x}_{i 1}$\n",
    "\n",
    "$\\frac{\\partial }{\\partial w_2}L(w_0,w_1, w_2,\\dots , w_m) =\\frac{2}{n}\\sum_{i=1}^{n} ( w_0 + w_1 x_{i 1}+ w_2 x_{i 2}+\\dots + w_m x_{i m} - {y}_i){x}_{i 2}$\n",
    "\n",
    "$\\dots$\n",
    "\n",
    "$\\frac{\\partial }{\\partial w_m}L(w_0,w_1, w_2,\\dots , w_m) =\\frac{2}{n}\\sum_{i=1}^{n} ( w_0 + w_1 x_{i 1}+ w_2 x_{i 2}+\\dots + w_m x_{i m} - {y}_i){x}_{i m}$\n",
    "\n",
    "**Метод градиентного спуска в случае линейной регрессии**\n",
    "\n",
    "$\\left\\{\n",
    "\\begin{array}{ccc}\n",
    "w_{0}^{j+1} = w_{0}^{j} - \\alpha \\frac{1}{n}\\sum_{i=1}^{n} (w_0^{j} + w_1^{j} {x}_{i 1} + w_2^{j} x_{i 2}+\\dots + w_m x_{i m} - {y}_i)\\\\\n",
    "w_{1}^{j+1} = w_{1}^{j} - \\alpha \\frac{1}{n}\\sum_{i=1}^{n} (w_0^{j} + w_1^{j} {x}_{i 1} + w_2^{j} x_{i 2}+\\dots + w_m x_{i m} - {y}_i){x}_{i 1}\\\\\n",
    "\\dots \\\\\n",
    "w_{m}^{j+1} = w_{m}^{j} - \\alpha \\frac{1}{n}\\sum_{i=1}^{n} (w_0^{j} + w_1^{j} {x}_{i 1} + w_2^{j} x_{i 2}+\\dots + w_m x_{i m} - {y}_i){x}_{i m}\\\n",
    "\\end{array}\n",
    "\\right.\n",
    ", \\quad j= 1,\\dots , k-1$"
   ]
  },
  {
   "cell_type": "markdown",
   "metadata": {
    "id": "JE3-i5DkwAZ9"
   },
   "source": [
    "### Матричный вид:\n",
    "\n",
    "Формулы очень громоздкие, запишем их в матричном виде:\n",
    "\n",
    "$\\tilde{X}=\\begin{pmatrix}\n",
    "1 &  x_{1 1} & x_{1 2}& \\dots & x_{1 m}\\\\\n",
    "   \\vdots &  \\vdots & \\dots &  \\vdots\\\\\n",
    "1 &  x_{n 1} & x_{n 2}& \\dots & x_{n m}\n",
    "\\end{pmatrix}$ - матрица признаков с добавленным столбцом из едениц,\n",
    "\n",
    "$\\quad \\vec{y}=\\begin{pmatrix}\n",
    "  y_1\\\\\n",
    "   \\vdots \\\\\n",
    "  y_n\n",
    "\\end{pmatrix}$ - вектор-столбец целевой переменной,\n",
    "\n",
    "$\\quad \\vec{w}=\\begin{pmatrix}\n",
    "w_0\\\\\n",
    "w_1\\\\\n",
    "\\vdots \\\\\n",
    "w_m\n",
    "\\end{pmatrix}$ - вектор-столбец параметров гиперплоскости,\n",
    "\n",
    "$\\vec{\\hat{y}} = \\tilde{X}\\vec{w}$ - вектор-столбец предсказанных значений\n",
    "\n",
    "Функция ошибки MSE: $L = \\frac{1}{n}(\\tilde{X}\\vec{w}- \\vec{y})^{T}(\\tilde{X}\\vec{w}- \\vec{y})$\n",
    "\n",
    "Найдём частные производные:\n",
    "\n",
    "$\\begin{pmatrix}\n",
    "  \\frac{\\partial L}{\\partial w_0}\\\\\n",
    "  \\frac{\\partial L}{\\partial w_1}\\\\\n",
    "   \\vdots \\\\\n",
    " \\frac{\\partial L}{\\partial w_m}\n",
    "\\end{pmatrix}=\\frac{2}{n}\\tilde{X}^T(\\tilde{X}\\vec{w}- \\vec{y})$\n",
    "\n",
    "**Метод градиентного спуска в случае линейной регрессии:**\n",
    "\n",
    "$\\vec{w}^{j+1} = \\vec{w}^{j} - \\alpha \\frac{1}{n}\\tilde{X}^T(\\tilde{X}\\vec{w}^{j+1}- \\vec{y}), \\quad j= 1,\\dots , k$\n",
    "\n",
    "Градиентный спуск может быть усовершенствован до стохастического градиентного спуска, при котором вычисления производятся не на всех данных, а на наборах объектов, выбранных случайным образом из всех данных, что уменьшает требования по памяти."
   ]
  },
  {
   "cell_type": "markdown",
   "metadata": {
    "id": "ACeps3L6vUXM"
   },
   "source": [
    "## Аналитическое решение\n",
    "\n",
    "Найти вектор оптимальных весов $w$ можно аналитически.\n",
    "Нужно найти такой вектор весов $w$, чтобы  выполнялось матричное уравнение:\n",
    "\n",
    "$\\vec{{y}} = \\tilde{X}\\vec{w}$.\n",
    "\n",
    "Домножим слева обе части на $\\tilde{X}^T$:\n",
    "\n",
    "$\\tilde{X}^T\\vec{{y}} = \\tilde{X}^T\\tilde{X}\\vec{w}$.\n",
    "\n",
    "Матрица $\\tilde{X}^T\\tilde{X}$ - квадратная, тогда можно найти решение (вектор $\\vec{w}$) в виде:\n",
    "\n",
    "$\\vec{w} = {(\\tilde{X}^T\\tilde{X})}^{-1}\\tilde{X}^T\\vec{{y}}$.\n",
    "\n",
    "У этого метода есть недостаток.\n",
    "Нахождение матрицы ${(\\tilde{X}^T\\tilde{X})}^{-1}$ - операция вычислительно сложная в случае большого размера матрицы и нестабильная в случае малого определителя матрицы $\\tilde{X}^T\\tilde{X}$.\n",
    "\n",
    "На практике лучше находить вектор весов $\\vec w$ решением матричного уравнения\n",
    "$\\tilde{X}^T\\tilde{X}\\vec{w}= \\tilde{X}^T\\vec{{y}}$. Оно называется нормальным. Это может быть сделано с помощью функции [numpy.linalg.solve](http://docs.scipy.org/doc/numpy-1.10.1/reference/generated/numpy.linalg.solve.html).\n",
    "\n",
    "Для небольшого датасета быстрее будет получаться аналитическое решение, но для больших матриц $\\tilde{X}$ быстрее работает градиентный спуск, особенно его стохастическая версия."
   ]
  },
  {
   "cell_type": "markdown",
   "metadata": {
    "id": "VtKkv70TwAZ_"
   },
   "source": [
    "Импортируем необходимые библиотеки:"
   ]
  },
  {
   "cell_type": "code",
   "execution_count": 1,
   "metadata": {
    "id": "Yg-3Xb1uwAZ_"
   },
   "outputs": [],
   "source": [
    "import numpy as np\n",
    "import pandas as pd\n",
    "import matplotlib.pyplot as plt\n",
    "import seaborn as sns\n",
    "\n",
    "from sklearn.datasets import make_regression\n",
    "import time\n",
    "from sklearn.linear_model import LinearRegression\n",
    "from sklearn.datasets import load_diabetes"
   ]
  },
  {
   "cell_type": "markdown",
   "metadata": {},
   "source": [
    "### Обучение модели линейной регрессии на sklearn"
   ]
  },
  {
   "cell_type": "markdown",
   "metadata": {},
   "source": [
    "Генерируем данные:"
   ]
  },
  {
   "cell_type": "code",
   "execution_count": 2,
   "metadata": {},
   "outputs": [],
   "source": [
    "X, y = make_regression(n_samples=1000, # число строк\n",
    "                          n_features=5,    # число признаков\n",
    "                          n_informative=5, # целевая переменная зависит от всех признаков\n",
    "                          noise = 5,\n",
    "                          bias = 2,\n",
    "                          random_state=42)"
   ]
  },
  {
   "cell_type": "markdown",
   "metadata": {},
   "source": [
    "Создаём модель (объект класса) линейной регрессии:"
   ]
  },
  {
   "cell_type": "code",
   "execution_count": 3,
   "metadata": {
    "id": "Y56H_RcgwAaX"
   },
   "outputs": [],
   "source": [
    "model = LinearRegression()"
   ]
  },
  {
   "cell_type": "markdown",
   "metadata": {},
   "source": [
    "Обучаем модель:"
   ]
  },
  {
   "cell_type": "code",
   "execution_count": 4,
   "metadata": {
    "colab": {
     "base_uri": "https://localhost:8080/",
     "height": 75
    },
    "id": "iRMGN_qYwAaX",
    "outputId": "037e5c56-12d5-4456-d0cd-259c7645135b"
   },
   "outputs": [
    {
     "data": {
      "text/html": [
       "<style>#sk-container-id-1 {color: black;}#sk-container-id-1 pre{padding: 0;}#sk-container-id-1 div.sk-toggleable {background-color: white;}#sk-container-id-1 label.sk-toggleable__label {cursor: pointer;display: block;width: 100%;margin-bottom: 0;padding: 0.3em;box-sizing: border-box;text-align: center;}#sk-container-id-1 label.sk-toggleable__label-arrow:before {content: \"▸\";float: left;margin-right: 0.25em;color: #696969;}#sk-container-id-1 label.sk-toggleable__label-arrow:hover:before {color: black;}#sk-container-id-1 div.sk-estimator:hover label.sk-toggleable__label-arrow:before {color: black;}#sk-container-id-1 div.sk-toggleable__content {max-height: 0;max-width: 0;overflow: hidden;text-align: left;background-color: #f0f8ff;}#sk-container-id-1 div.sk-toggleable__content pre {margin: 0.2em;color: black;border-radius: 0.25em;background-color: #f0f8ff;}#sk-container-id-1 input.sk-toggleable__control:checked~div.sk-toggleable__content {max-height: 200px;max-width: 100%;overflow: auto;}#sk-container-id-1 input.sk-toggleable__control:checked~label.sk-toggleable__label-arrow:before {content: \"▾\";}#sk-container-id-1 div.sk-estimator input.sk-toggleable__control:checked~label.sk-toggleable__label {background-color: #d4ebff;}#sk-container-id-1 div.sk-label input.sk-toggleable__control:checked~label.sk-toggleable__label {background-color: #d4ebff;}#sk-container-id-1 input.sk-hidden--visually {border: 0;clip: rect(1px 1px 1px 1px);clip: rect(1px, 1px, 1px, 1px);height: 1px;margin: -1px;overflow: hidden;padding: 0;position: absolute;width: 1px;}#sk-container-id-1 div.sk-estimator {font-family: monospace;background-color: #f0f8ff;border: 1px dotted black;border-radius: 0.25em;box-sizing: border-box;margin-bottom: 0.5em;}#sk-container-id-1 div.sk-estimator:hover {background-color: #d4ebff;}#sk-container-id-1 div.sk-parallel-item::after {content: \"\";width: 100%;border-bottom: 1px solid gray;flex-grow: 1;}#sk-container-id-1 div.sk-label:hover label.sk-toggleable__label {background-color: #d4ebff;}#sk-container-id-1 div.sk-serial::before {content: \"\";position: absolute;border-left: 1px solid gray;box-sizing: border-box;top: 0;bottom: 0;left: 50%;z-index: 0;}#sk-container-id-1 div.sk-serial {display: flex;flex-direction: column;align-items: center;background-color: white;padding-right: 0.2em;padding-left: 0.2em;position: relative;}#sk-container-id-1 div.sk-item {position: relative;z-index: 1;}#sk-container-id-1 div.sk-parallel {display: flex;align-items: stretch;justify-content: center;background-color: white;position: relative;}#sk-container-id-1 div.sk-item::before, #sk-container-id-1 div.sk-parallel-item::before {content: \"\";position: absolute;border-left: 1px solid gray;box-sizing: border-box;top: 0;bottom: 0;left: 50%;z-index: -1;}#sk-container-id-1 div.sk-parallel-item {display: flex;flex-direction: column;z-index: 1;position: relative;background-color: white;}#sk-container-id-1 div.sk-parallel-item:first-child::after {align-self: flex-end;width: 50%;}#sk-container-id-1 div.sk-parallel-item:last-child::after {align-self: flex-start;width: 50%;}#sk-container-id-1 div.sk-parallel-item:only-child::after {width: 0;}#sk-container-id-1 div.sk-dashed-wrapped {border: 1px dashed gray;margin: 0 0.4em 0.5em 0.4em;box-sizing: border-box;padding-bottom: 0.4em;background-color: white;}#sk-container-id-1 div.sk-label label {font-family: monospace;font-weight: bold;display: inline-block;line-height: 1.2em;}#sk-container-id-1 div.sk-label-container {text-align: center;}#sk-container-id-1 div.sk-container {/* jupyter's `normalize.less` sets `[hidden] { display: none; }` but bootstrap.min.css set `[hidden] { display: none !important; }` so we also need the `!important` here to be able to override the default hidden behavior on the sphinx rendered scikit-learn.org. See: https://github.com/scikit-learn/scikit-learn/issues/21755 */display: inline-block !important;position: relative;}#sk-container-id-1 div.sk-text-repr-fallback {display: none;}</style><div id=\"sk-container-id-1\" class=\"sk-top-container\"><div class=\"sk-text-repr-fallback\"><pre>LinearRegression()</pre><b>In a Jupyter environment, please rerun this cell to show the HTML representation or trust the notebook. <br />On GitHub, the HTML representation is unable to render, please try loading this page with nbviewer.org.</b></div><div class=\"sk-container\" hidden><div class=\"sk-item\"><div class=\"sk-estimator sk-toggleable\"><input class=\"sk-toggleable__control sk-hidden--visually\" id=\"sk-estimator-id-1\" type=\"checkbox\" checked><label for=\"sk-estimator-id-1\" class=\"sk-toggleable__label sk-toggleable__label-arrow\">LinearRegression</label><div class=\"sk-toggleable__content\"><pre>LinearRegression()</pre></div></div></div></div></div>"
      ],
      "text/plain": [
       "LinearRegression()"
      ]
     },
     "execution_count": 4,
     "metadata": {},
     "output_type": "execute_result"
    }
   ],
   "source": [
    "model.fit(X, y)"
   ]
  },
  {
   "cell_type": "markdown",
   "metadata": {},
   "source": [
    "Выводим найденные коэффициенты линейной регрессии.\n",
    "\n",
    "Свободный коэффициент:"
   ]
  },
  {
   "cell_type": "code",
   "execution_count": 5,
   "metadata": {
    "colab": {
     "base_uri": "https://localhost:8080/"
    },
    "id": "MIkqUYtPwAaY",
    "outputId": "f15d9117-4885-4df1-a981-f170ddc1194b"
   },
   "outputs": [
    {
     "data": {
      "text/plain": [
       "1.691426699296051"
      ]
     },
     "execution_count": 5,
     "metadata": {},
     "output_type": "execute_result"
    }
   ],
   "source": [
    "model.intercept_"
   ]
  },
  {
   "cell_type": "markdown",
   "metadata": {},
   "source": [
    "Веса:"
   ]
  },
  {
   "cell_type": "code",
   "execution_count": 6,
   "metadata": {
    "colab": {
     "base_uri": "https://localhost:8080/"
    },
    "id": "f_lOeOwrwAaY",
    "outputId": "c823742a-4203-4444-b48e-911aa4d3d073"
   },
   "outputs": [
    {
     "data": {
      "text/plain": [
       "array([28.34273825, 46.0063814 , 16.71776866, 24.63911531, 19.1812038 ])"
      ]
     },
     "execution_count": 6,
     "metadata": {},
     "output_type": "execute_result"
    }
   ],
   "source": [
    "model.coef_"
   ]
  },
  {
   "cell_type": "markdown",
   "metadata": {
    "id": "EDblKsG4wAaA"
   },
   "source": [
    "### 1. Сгенерируйте данные и значения целевой переменной (метки) для задачи регрессии, имеющие 5 признаков и 10000 наблюдений. Причём целевая переменная должна зависеть только от 3 признаков. Запишите их в датафрейм, дав названия колонкам. Выведите первые 10 строк датафрейма, а также его описательную статистику.\n",
    "Указание: Для этого воспользуйтесь [make_regression](https://scikit-learn.org/stable/modules/generated/sklearn.datasets.make_classification.html), задав параметры: число строк n_samples=10000, число признаков n_features=5, число признаков от которых зависит целевая переменная n_informative=3, фиксируем воспроизводимость случайных данных        random_state=0. Дайте названия колонкам датафрейма, например, признакам - x1, x2, ..., а целевой переменной - y. Описательная статистика выводится при помощи метода pandas [describe](https://pandas.pydata.org/docs/reference/api/pandas.DataFrame.describe.html)."
   ]
  },
  {
   "cell_type": "code",
   "execution_count": 7,
   "metadata": {},
   "outputs": [],
   "source": [
    "X, y = make_regression(n_samples=10000, # число строк\n",
    "                          n_features=5,    # число признаков\n",
    "                          n_informative=5, # целевая переменная зависит от всех признаков\n",
    "                          noise = 5,\n",
    "                          bias = 2,\n",
    "                          random_state=0)"
   ]
  },
  {
   "cell_type": "code",
   "execution_count": 8,
   "metadata": {},
   "outputs": [
    {
     "data": {
      "text/plain": [
       "array([[ 2.05654356,  0.60685059,  0.48268789, -1.13088844,  0.42009449],\n",
       "       [-0.79919201, -0.64596418, -0.18289644, -0.48274352,  1.37487642],\n",
       "       [ 1.07600714, -0.79602586, -0.75196933,  0.02131165, -0.31905394],\n",
       "       [-0.10325476, -0.82849702,  1.48986344, -1.64318881, -1.60090398],\n",
       "       [-2.06340315,  0.50325206, -0.64557207, -0.31735049, -1.66108342]])"
      ]
     },
     "execution_count": 8,
     "metadata": {},
     "output_type": "execute_result"
    }
   ],
   "source": [
    "X[:5]"
   ]
  },
  {
   "cell_type": "code",
   "execution_count": null,
   "metadata": {},
   "outputs": [],
   "source": []
  },
  {
   "cell_type": "markdown",
   "metadata": {},
   "source": [
    "### 2. Убелитесь в том, что в сгенерированных данных целевая переменная действительно зависит от трёх переменных. \n",
    "Указание: Для этого вычислите матрицу корреляции, воспользовавшись методом [corr](https://pandas.pydata.org/docs/reference/api/pandas.DataFrame.corr.html) библиотеки pandas. Для наглядности изобразите её на тепловой карте [heatmap](https://seaborn.pydata.org/generated/seaborn.heatmap.html) библиотеки seaborn. "
   ]
  },
  {
   "cell_type": "code",
   "execution_count": null,
   "metadata": {},
   "outputs": [],
   "source": []
  },
  {
   "cell_type": "markdown",
   "metadata": {},
   "source": [
    "### 3. Напишите функцию X_, которая принимает матрицу X (двумерный numpy-массив) и присоединяет столбец единиц к X слева. Примените функцию к сгенерированным выше данным X.\n",
    "Указание: Можно воспользоваться методом concatenate, либо hstack."
   ]
  },
  {
   "cell_type": "code",
   "execution_count": null,
   "metadata": {},
   "outputs": [],
   "source": []
  },
  {
   "cell_type": "markdown",
   "metadata": {},
   "source": [
    "### 4. Напишите функцию, вычисляющую предсказание значения целевой переменной, как линейную функцию признака $\\vec{\\hat{y}} =\\tilde{X}\\vec{w}$, где $\\tilde{X} $ - матрица признаков с присоединённым слева столбцом единиц. Назовите её predict. Вычислите её значения на сгенерированных данных X в случайной точке $w$."
   ]
  },
  {
   "cell_type": "code",
   "execution_count": null,
   "metadata": {},
   "outputs": [],
   "source": []
  },
  {
   "cell_type": "markdown",
   "metadata": {},
   "source": [
    "### 5. Напишите функцию ошибки (loss) линейной регрессии с множеством признаков в матричном виде. Примените функцию к сгенерированным выше данным X, y, а в качестве $w$ возьмите столбец случайных чисел.\n",
    "Указание: $L = \\frac{1}{n}(\\tilde{X}\\vec{w}- \\vec{y})^{T}(\\tilde{X}\\vec{w}- \\vec{y})$, здесь $\\tilde{X}$ - это матрица X c присоединённым к ней столбцом единиц слева, а n - число строк матрицы X. Число элементов в $w$ должно соответствовать количеству столбцов в $\\tilde{X}$."
   ]
  },
  {
   "cell_type": "code",
   "execution_count": null,
   "metadata": {},
   "outputs": [],
   "source": []
  },
  {
   "cell_type": "markdown",
   "metadata": {
    "id": "dejU_eixwAaE"
   },
   "source": [
    "### 6. Напишите функцию, которая вычисляет градиент функции ошибки (loss) с множеством признаков в матричном виде. Примените функцию к сгенерированным выше данным X, y, а в качестве $w$ возьмите столбец случайных чисел.\n",
    "\n",
    "Указание: $\\overrightarrow{{grad} (L)}  = \\frac{2}{n}\\tilde{X}^T(\\tilde{X}\\vec w- \\vec y)$, здесь $\\tilde{X}$ - это матрица X c присоединённым к ней столбцом единиц слева, а n - число строк матрицы X. Назовите созданную функцию gradient_F. Примените функцию к сгенерированным выше данным X, y, а в качестве $w$ возьмите столбец случайных чисел."
   ]
  },
  {
   "cell_type": "code",
   "execution_count": null,
   "metadata": {},
   "outputs": [],
   "source": []
  },
  {
   "cell_type": "markdown",
   "metadata": {
    "id": "cfvz4uwJwAaF"
   },
   "source": [
    "### 7. Создайте класс Linear_Regression_GD, реализующий модель линейной регрессии для данных имеющих произвольное количество признаков (столбцов). Создайте экземпляр класса, обучите модель и выведите получившиеся коэффициенты гиперплоскости (смещение и веса).\n",
    "Указание: Необходимо создать класс, реализующий метод градиентного спуска для функции ошибки L.\n",
    "Воспользуйтесь для этого классом GradientDiscent, написанный в предыдущих ноутбуках, подставив туда методы X_ и gradient_L. В методе fit задайте стартовое значение массивом нулей нужной длины. В функции GD параметры a и b можно заменить на X, y для наглядности."
   ]
  },
  {
   "cell_type": "raw",
   "metadata": {},
   "source": [
    "class GradientDiscent():\n",
    "    def __init__(self, max_iter):\n",
    "        self.w = None\n",
    "        self.max_iter_ = max_iter\n",
    "    \n",
    "    def gradient_F(self, X, y):\n",
    "        \n",
    "        return ........\n",
    "        \n",
    "    def GD(self, a, b, w_start, learning_rate=0.2):\n",
    "        self.w = w_start\n",
    "\n",
    "        for _ in range(self.max_iter_):\n",
    "            self.w = self.w - learning_rate *self.gradient_F(a, b)\n",
    "        assert (-1e+06 < self.w).all() and (self.w < 1e+06).all(), \"Расходимость: слишком большой learning_rate, либо неудачно выбрана начальная точка, либо минимум не достигается\"\n",
    "        assert (-1e-04 < self.gradient_F(a, b)).all() and (self.gradient_F(a, b) < 1e-04).all(), \"Недостаточно шагов градиентного спуска\"\n",
    "        \n",
    "    def fit(self, a, b):\n",
    "        w_start = np.zeros(2)\n",
    "        self.GD(a, b, w_start)    "
   ]
  },
  {
   "cell_type": "code",
   "execution_count": null,
   "metadata": {},
   "outputs": [],
   "source": []
  },
  {
   "cell_type": "markdown",
   "metadata": {
    "id": "0QgIo9yp4r_y"
   },
   "source": [
    "### 8. Напечатайте уравнение гиперплоскости, полученной в результате применения модели линейной регрессии к данным X, y.\n",
    "Указание: Используйте print. Уравнение гиперплоскости должно иметь вид $y = w_0 + w_1 x_1+ w_2 x_2 + \\dots + w_m x_m$. Выводите коэффициенты гиперплоскости с точностью два знака после запятой. Учтите то, что эти коэффициенты могут быть и отрицательными. "
   ]
  },
  {
   "cell_type": "code",
   "execution_count": null,
   "metadata": {},
   "outputs": [],
   "source": []
  },
  {
   "cell_type": "markdown",
   "metadata": {
    "id": "hfwuIMDG_0-H"
   },
   "source": [
    "### 9. Создайте новое наблюдение, например, взяв среднее значение по каждому столбцу X. Сделайте предсказание на нём.\n",
    "Указание: Обртите внимание, что метод predict принимает только двумерные numpy-массивы."
   ]
  },
  {
   "cell_type": "code",
   "execution_count": null,
   "metadata": {},
   "outputs": [],
   "source": []
  },
  {
   "cell_type": "code",
   "execution_count": null,
   "metadata": {},
   "outputs": [],
   "source": []
  },
  {
   "cell_type": "markdown",
   "metadata": {
    "id": "Uf7zZP4FcU1x"
   },
   "source": [
    "### 10. Создайте класс Linear_Regression_analytical, реализующий модель линейной регрессии, где оптимальное значение находится аналитически. Создайте экземпляр класса, обучите модель и выведите получившиеся коэффициенты гиперплоскости (смещение и веса). Сравните с результатами, полученными методом градиентного спуска.\n",
    "\n",
    "Указание: За основу возьмите класс Linear_Regression, только удалите в нём атрибут max_iter_ методы gradient_F и GD, а в методе fit возвращайте выражение: $(\\tilde{X}^T \\tilde{X})^{-1}\\tilde{X}\\vec y$"
   ]
  },
  {
   "cell_type": "code",
   "execution_count": null,
   "metadata": {},
   "outputs": [],
   "source": []
  },
  {
   "cell_type": "markdown",
   "metadata": {
    "id": "QjU8kQMS4-mi"
   },
   "source": [
    "### 11. Создайте класс Linear_Regression_equation, реализующий модель линейной регрессии через решение нормального уравнения. Создайте экземпляр класса, обучите модель и выведите получившиеся коэффициенты гиперплоскости. Сравните с результатами, полученными аналитическим методом.\n",
    "\n",
    "Указание: За основу возьмите класс Linear_Regression_analitical, только в методе fit реализуйте решение матричного уравнения $\\tilde{X}^T\\tilde{X}\\vec w = \\tilde{X}^T\\vec y$. Это может быть сделано с помощью [numpy.linalg.solve](http://docs.scipy.org/doc/numpy-1.10.1/reference/generated/numpy.linalg.solve.html) решающего уравнение вида $А\\vec w = \\vec b$."
   ]
  },
  {
   "cell_type": "code",
   "execution_count": null,
   "metadata": {},
   "outputs": [],
   "source": []
  },
  {
   "cell_type": "markdown",
   "metadata": {},
   "source": [
    "### 12. Замерьте время обучения моделей линейной регрессии, реализованных методом градиентного спуска, аналитическим методом и решением нормального уравнения на сгенерированных данных. Какая из них работает быстрее для данного набора данных?\n",
    "Указание: Для замера времени используйте %timeit.\n",
    "\n",
    "µs - это микросекунда (1 µs = 0,000001 sec), ms - это миллисекунда (1 ms = 0.001 sec)."
   ]
  },
  {
   "cell_type": "code",
   "execution_count": null,
   "metadata": {},
   "outputs": [],
   "source": []
  },
  {
   "cell_type": "markdown",
   "metadata": {
    "id": "n2yvqUwkGuno"
   },
   "source": [
    "### 13. Реализуйте в классе Linear_Regression_GD оптимизацию не методом градиентного спуска, а методом стохастического градиентного спуска. Назовите полученный класс Linear_Regression_SGD. Вычислите коэффициенты гиперплоскости w и убедитесь, что они получились примерно теми же.\n",
    "Указание: Изменения произведите в методе gradient_F таким образом, чтобы градиент вычислялся не на всех значениях X и y, а на случайно выбранных наблюдениях в количестве size=600. Перемешать индексы случайным образом и выбрать из них нужное количество можно при помощи [np.random.choice](https://numpy.org/doc/stable/reference/random/generated/numpy.random.choice.html). Не забудьте зафиксировать np.random.seed(42)."
   ]
  },
  {
   "cell_type": "code",
   "execution_count": null,
   "metadata": {},
   "outputs": [],
   "source": []
  },
  {
   "cell_type": "markdown",
   "metadata": {
    "id": "CxXDo2xxkYhn"
   },
   "source": [
    "# 14. Сравните время обучения моделей линейной регрессии, реализованных методом градиентного спуска и стохастического градиентного спуска с одинаковым количеством итераций градиентного спуска.\n",
    "Указание: Возьмите max_iter = 1000."
   ]
  },
  {
   "cell_type": "code",
   "execution_count": null,
   "metadata": {},
   "outputs": [],
   "source": []
  },
  {
   "cell_type": "markdown",
   "metadata": {
    "id": "rYi_Aoa-wAaX"
   },
   "source": [
    "### 15. Создайте класс модели линейной регрессии из библиотеки sklearn. Обучите модель на сгенерированных данных и убедитесь, что коэффициенты гиперплоскости и предсказанное значение будут примерно теми же, что и у модели градиентного спуска, написанной своими руками.\n",
    "\n",
    " Указание: Воспользуйтесь классом [LinearRegression](https://scikit-learn.org/stable/modules/generated/sklearn.linear_model.LinearRegression.html). Оптимальное коэффициенты гиперплоскости выводятся так: смещение выводится при помощи атрибута intrecept_, а оптимальные веса при помощи атрибута coef_. "
   ]
  },
  {
   "cell_type": "code",
   "execution_count": null,
   "metadata": {},
   "outputs": [],
   "source": []
  },
  {
   "cell_type": "markdown",
   "metadata": {},
   "source": [
    "### 16. Сделайте предсказание на новом наблюдении. Убедитесь, значение будет примерно теми же, что и у модели градиентного спуска, написанной своими руками."
   ]
  },
  {
   "cell_type": "code",
   "execution_count": null,
   "metadata": {},
   "outputs": [],
   "source": []
  },
  {
   "cell_type": "markdown",
   "metadata": {},
   "source": [
    "### 17. Напечатайте название каждого признака, а рядом найденный вес, ему соответствующий. Сделайте вывод какой признак наиболее сильно влияет на целевую переменную? А какой наименее значим?"
   ]
  },
  {
   "cell_type": "code",
   "execution_count": null,
   "metadata": {},
   "outputs": [],
   "source": []
  },
  {
   "cell_type": "markdown",
   "metadata": {},
   "source": [
    "### 18. Визуализируйте значимость признаков на графике.\n",
    "Указание: Используйте для построения графика [bar](https://matplotlib.org/stable/api/_as_gen/matplotlib.pyplot.bar.html)."
   ]
  },
  {
   "cell_type": "code",
   "execution_count": null,
   "metadata": {},
   "outputs": [],
   "source": []
  }
 ],
 "metadata": {
  "colab": {
   "provenance": []
  },
  "kernelspec": {
   "display_name": "Python 3 (ipykernel)",
   "language": "python",
   "name": "python3"
  },
  "language_info": {
   "codemirror_mode": {
    "name": "ipython",
    "version": 3
   },
   "file_extension": ".py",
   "mimetype": "text/x-python",
   "name": "python",
   "nbconvert_exporter": "python",
   "pygments_lexer": "ipython3",
   "version": "3.11.5"
  }
 },
 "nbformat": 4,
 "nbformat_minor": 4
}
